{
 "cells": [
  {
   "cell_type": "markdown",
   "metadata": {},
   "source": [
    "# Anomaly Detection"
   ]
  },
  {
   "cell_type": "code",
   "execution_count": 1,
   "metadata": {},
   "outputs": [],
   "source": [
    "import pandas as pd\n",
    "import numpy as np\n",
    "import matplotlib.pyplot as plt\n",
    "from scipy.stats import norm as nm"
   ]
  },
  {
   "cell_type": "markdown",
   "metadata": {},
   "source": [
    "Get data"
   ]
  },
  {
   "cell_type": "code",
   "execution_count": 4,
   "metadata": {},
   "outputs": [],
   "source": [
    "data = pd.read_csv(\"data.csv\") \n",
    "anomalies = pd.read_csv(\"anomalies.csv\") "
   ]
  },
  {
   "cell_type": "markdown",
   "metadata": {},
   "source": [
    "See how data is distributed"
   ]
  },
  {
   "cell_type": "code",
   "execution_count": 5,
   "metadata": {},
   "outputs": [
    {
     "data": {
      "text/plain": [
       "Text(0,0.5,'Edad')"
      ]
     },
     "execution_count": 5,
     "metadata": {},
     "output_type": "execute_result"
    },
    {
     "data": {
      "image/png": "[encoded data removed]",
      "text/plain": [
       "<Figure size 432x288 with 1 Axes>"
      ]
     },
     "metadata": {
      "needs_background": "light"
     },
     "output_type": "display_data"
    }
   ],
   "source": [
    "plt.scatter(data[\"Estatura\"], data[\"Edad\"], marker = \"x\")\n",
    "plt.xlabel('Estatura')\n",
    "plt.ylabel('Edad')"
   ]
  },
  {
   "cell_type": "markdown",
   "metadata": {},
   "source": [
    "Fuctions to calculate Gauss Anomaly Detection"
   ]
  },
  {
   "cell_type": "code",
   "execution_count": 16,
   "metadata": {},
   "outputs": [],
   "source": [
    "\n",
    "def meanAndSigma2(data):\n",
    "    X = np.array(data)\n",
    "    n = np.size(X, 1)\n",
    "    m = np.size(X, 0)\n",
    "    mean = np.zeros((n, 1))\n",
    "    sigma2 = np.zeros((n, 1))\n",
    "    \n",
    "    mean = np.reshape((1/m)*np.sum(X, 0), (1, n))\n",
    "    sigma2 = np.reshape((1/m)*np.sum(np.power((X - mean),2), 0),(1, n))\n",
    "    \n",
    "    return mean, sigma2\n",
    "\n",
    "\n",
    "\n",
    "def detectAnomaly(data, epsilon):\n",
    "    mean, sigma2 = meanAndSigma2(data)\n",
    "    probability = nm.pdf(data, mean[0], np.sqrt(sigma2[0]))\n",
    "    \n",
    "    probability = probability[:,0] * probability[:,1]\n",
    "    print(probability)\n",
    "    for y in probability:\n",
    "        if y < epsilon:\n",
    "            print('Anomaly!')\n"
   ]
  },
  {
   "cell_type": "markdown",
   "metadata": {},
   "source": [
    "Configure epsiolon as 0.001 (we neew a lower value, because the probability multiplication reduces the value)"
   ]
  },
  {
   "cell_type": "code",
   "execution_count": 17,
   "metadata": {},
   "outputs": [
    {
     "name": "stdout",
     "output_type": "stream",
     "text": [
      "[0.53412563 0.27266106 0.47661513 0.29307514 0.10056365 0.17504029\n",
      " 0.08580678 0.12294242 0.159363   0.16713014 0.37236586 0.40466773\n",
      " 0.2227634  0.31522584 0.44184132 0.06131786 0.57417541 0.05234727\n",
      " 0.39587025 0.60146926]\n"
     ]
    }
   ],
   "source": [
    "detectAnomaly(data,0.001)"
   ]
  },
  {
   "cell_type": "markdown",
   "metadata": {},
   "source": [
    "Any Anomaly detected with the training data"
   ]
  },
  {
   "cell_type": "code",
   "execution_count": 18,
   "metadata": {},
   "outputs": [
    {
     "name": "stdout",
     "output_type": "stream",
     "text": [
      "[9.33098963e-06 7.91472305e-06 2.51789742e-06 1.14165615e-05]\n",
      "Anomaly!\n",
      "Anomaly!\n",
      "Anomaly!\n",
      "Anomaly!\n"
     ]
    }
   ],
   "source": [
    "detectAnomaly(anomalies,0.001)"
   ]
  },
  {
   "cell_type": "markdown",
   "metadata": {},
   "source": [
    "All anomalies were detected "
   ]
  }
 ],
 "metadata": {
  "kernelspec": {
   "display_name": "Python 3",
   "language": "python",
   "name": "python3"
  },
  "language_info": {
   "codemirror_mode": {
    "name": "ipython",
    "version": 3
   },
   "file_extension": ".py",
   "mimetype": "text/x-python",
   "name": "python",
   "nbconvert_exporter": "python",
   "pygments_lexer": "ipython3",
   "version": "3.6.8"
  }
 },
 "nbformat": 4,
 "nbformat_minor": 2
}
