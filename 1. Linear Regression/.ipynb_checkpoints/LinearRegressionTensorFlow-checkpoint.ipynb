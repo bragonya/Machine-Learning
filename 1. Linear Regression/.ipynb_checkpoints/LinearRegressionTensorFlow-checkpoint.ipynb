{
 "cells": [
  {
   "cell_type": "markdown",
   "metadata": {},
   "source": [
    "# Linear regression with tensorflow\n"
   ]
  },
  {
   "cell_type": "markdown",
   "metadata": {},
   "source": [
    "Import necessary libraries"
   ]
  },
  {
   "cell_type": "code",
   "execution_count": 31,
   "metadata": {},
   "outputs": [],
   "source": [
    "import numpy as np \n",
    "import tensorflow as tf \n",
    "import matplotlib.pyplot as plt "
   ]
  },
  {
   "cell_type": "markdown",
   "metadata": {},
   "source": [
    "Import dataset"
   ]
  },
  {
   "cell_type": "code",
   "execution_count": 54,
   "metadata": {},
   "outputs": [],
   "source": [
    "dataset = np.load(\"proyecto_training_data.npy\").astype(np.float32)\n",
    "x = dataset[:,1].astype(np.float32)\n",
    "y = dataset[:,0].astype(np.float32)\n",
    "n = len(dataset)"
   ]
  },
  {
   "cell_type": "markdown",
   "metadata": {},
   "source": [
    "The global graph is defined as follows:\n",
    "\n",
    "* Three place holders (X,Y,learning_rate) because those values change in training process\n",
    "* Two Variables, X and Y which are the trainable params\n",
    "* Two operation nodes multiply and addition, necessary to linear regression (Hypothesis)\n",
    "* A cost function to obtain the cost of each epoch\n",
    "* A optimizer node with gradient descent algorithm to find trainable params that minize the cost function"
   ]
  },
  {
   "cell_type": "code",
   "execution_count": 55,
   "metadata": {},
   "outputs": [],
   "source": [
    "tf.reset_default_graph()\n",
    "g = tf.Graph()\n",
    "with g.as_default():\n",
    "    X = tf.placeholder(\"float\") \n",
    "    Y = tf.placeholder(\"float\") \n",
    "    learning_rate = tf.placeholder(\"float\")\n",
    "    W = tf.Variable(0, name = \"W\", dtype=\"float\")\n",
    "    b = tf.Variable(0, name = \"b\", dtype=\"float\")\n",
    "    y_pred = tf.add(tf.multiply(X, W), b)\n",
    "    cost = tf.reduce_sum(tf.pow(y_pred-Y, 2)) / (2 * n)\n",
    "    cost_summary = tf.summary.scalar(\"cost\",cost)\n",
    "    optimizer = tf.train.GradientDescentOptimizer(learning_rate).minimize(cost)\n",
    "    init = tf.global_variables_initializer()"
   ]
  },
  {
   "cell_type": "markdown",
   "metadata": {},
   "source": [
    "Training params are defined"
   ]
  },
  {
   "cell_type": "markdown",
   "metadata": {},
   "source": [
    "### Tensorboard graph visual representation\n",
    "\n",
    "<img src=\"images/grafo.PNG\">"
   ]
  },
  {
   "cell_type": "markdown",
   "metadata": {},
   "source": [
    "### Training with  learning_rate equals to 0.0001"
   ]
  },
  {
   "cell_type": "code",
   "execution_count": 72,
   "metadata": {},
   "outputs": [
    {
     "name": "stdout",
     "output_type": "stream",
     "text": [
      "Epoch 10 : cost = 18126555000.0 W = 1166.8213 b = 177.24806\n",
      "Epoch 20 : cost = 16840751000.0 W = 2287.842 b = 347.3459\n",
      "Epoch 30 : cost = 15653959000.0 W = 3364.867 b = 510.57626\n",
      "Epoch 40 : cost = 14558545000.0 W = 4399.63 b = 667.2088\n",
      "Epoch 50 : cost = 13547460000.0 W = 5393.8027 b = 817.4974\n"
     ]
    }
   ],
   "source": [
    "tf.reset_default_graph()\n",
    "\n",
    "with tf.Session(graph=g) as sess: \n",
    "    # Initializing the Variables \n",
    "\n",
    "    writer = tf.summary.FileWriter('./graphs', sess.graph)\n",
    "    sess.run(init) \n",
    "    # Iterating through all the epochs \n",
    "    for epoch in range(51): \n",
    "\n",
    "        # Feeding each data point into the optimizer using Feed Dictionary \n",
    "        for (_x, _y) in zip(x, y): \n",
    "            sess.run(optimizer, feed_dict = {X : _x, Y : _y,learning_rate:0.0001}) \n",
    "\n",
    "        # Displaying the result after every 50 epochs \n",
    "        if (epoch + 1) % 10 == 0: \n",
    "            # Calculating the cost a every epoch \n",
    "            c,co,we,inte= sess.run([cost_summary,cost,W,b],feed_dict = {X : x, Y : y,learning_rate:0.0001}) \n",
    "            writer.add_summary(c, epoch+1)\n",
    "            print(\"Epoch\", (epoch + 1), \": cost =\", co, \"W =\", we, \"b =\", inte) "
   ]
  },
  {
   "cell_type": "markdown",
   "metadata": {},
   "source": [
    "### Cost visualization to learning_rate equals to 0.0001\n",
    "<img src=\"images/cost_learning00001.PNG\">\n",
    "\n",
    "With this learning rate we can see the minimum cost achieved is 13547460000 although the cost decrement probably the steps are short"
   ]
  },
  {
   "cell_type": "markdown",
   "metadata": {},
   "source": [
    "### Training with  learning_rate equals to 0.001"
   ]
  },
  {
   "cell_type": "code",
   "execution_count": 71,
   "metadata": {},
   "outputs": [
    {
     "name": "stdout",
     "output_type": "stream",
     "text": [
      "Epoch 10 : cost = 9547055000.0 W = 9808.775 b = 1482.0828\n",
      "Epoch 20 : cost = 5071720400.0 W = 16381.958 b = 2459.0417\n",
      "Epoch 30 : cost = 3063293200.0 W = 20787.574 b = 3097.6348\n",
      "Epoch 40 : cost = 2161839600.0 W = 23741.281 b = 3509.5935\n",
      "Epoch 50 : cost = 1757146600.0 W = 25722.404 b = 3769.72\n"
     ]
    }
   ],
   "source": [
    "tf.reset_default_graph()\n",
    "\n",
    "with tf.Session(graph=g) as sess: \n",
    "    # Initializing the Variables \n",
    "\n",
    "    writer = tf.summary.FileWriter('./graphs', sess.graph)\n",
    "    sess.run(init) \n",
    "    # Iterating through all the epochs \n",
    "    for epoch in range(51): \n",
    "\n",
    "        # Feeding each data point into the optimizer using Feed Dictionary \n",
    "        for (_x, _y) in zip(x, y): \n",
    "            sess.run(optimizer, feed_dict = {X : _x, Y : _y,learning_rate:0.001}) \n",
    "\n",
    "        # Displaying the result after every 50 epochs \n",
    "        if (epoch + 1) % 10 == 0: \n",
    "            # Calculating the cost a every epoch \n",
    "            c,co,we,inte= sess.run([cost_summary,cost,W,b],feed_dict = {X : x, Y : y,learning_rate:0.001}) \n",
    "            writer.add_summary(c, epoch+1)\n",
    "            print(\"Epoch\", (epoch + 1), \": cost =\", co, \"W =\", we, \"b =\", inte) "
   ]
  },
  {
   "cell_type": "markdown",
   "metadata": {},
   "source": [
    "### Cost visualization to learning_rate equals to 0.001\n",
    "<img src=\"images/cost_learning0001.PNG\">\n",
    "The cost is reduced significantly compared to the previous learning rate, we can reject the learning rate with value 0.0001"
   ]
  },
  {
   "cell_type": "markdown",
   "metadata": {},
   "source": [
    "### Training with  learning_rate equals to 0.01"
   ]
  },
  {
   "cell_type": "code",
   "execution_count": 69,
   "metadata": {},
   "outputs": [
    {
     "name": "stdout",
     "output_type": "stream",
     "text": [
      "Epoch 10 : cost = 1432888200.0 W = 29211.793 b = 4066.2483\n",
      "Epoch 20 : cost = 1424245800.0 W = 29816.31 b = 3671.1384\n",
      "Epoch 30 : cost = 1421922600.0 W = 29900.158 b = 3197.1516\n",
      "Epoch 40 : cost = 1419628700.0 W = 29974.326 b = 2723.9485\n",
      "Epoch 50 : cost = 1417357300.0 W = 30047.842 b = 2252.9666\n"
     ]
    }
   ],
   "source": [
    "tf.reset_default_graph()\n",
    "\n",
    "with tf.Session(graph=g) as sess: \n",
    "    # Initializing the Variables \n",
    "\n",
    "    writer = tf.summary.FileWriter('./graphs', sess.graph)\n",
    "    sess.run(init) \n",
    "    # Iterating through all the epochs \n",
    "    for epoch in range(51): \n",
    "\n",
    "        # Feeding each data point into the optimizer using Feed Dictionary \n",
    "        for (_x, _y) in zip(x, y): \n",
    "            sess.run(optimizer, feed_dict = {X : _x, Y : _y,learning_rate:0.01}) \n",
    "\n",
    "        # Displaying the result after every 50 epochs \n",
    "        if (epoch + 1) % 10 == 0: \n",
    "            # Calculating the cost a every epoch \n",
    "            c,co,we,inte= sess.run([cost_summary,cost,W,b],feed_dict = {X : x, Y : y,learning_rate:0.01}) \n",
    "            writer.add_summary(c, epoch+1)\n",
    "            print(\"Epoch\", (epoch + 1), \": cost =\", co, \"W =\", we, \"b =\", inte) "
   ]
  },
  {
   "cell_type": "markdown",
   "metadata": {},
   "source": [
    "### Cost visualization to learning_rate equals to 0.01\n",
    "<img src=\"images/cost_learning001.PNG\">\n",
    "\n",
    "In this case the cost reduction is too short, it seems like the function converge in that point."
   ]
  },
  {
   "cell_type": "markdown",
   "metadata": {},
   "source": [
    "### Training with  learning_rate equals to 0.1"
   ]
  },
  {
   "cell_type": "code",
   "execution_count": 68,
   "metadata": {},
   "outputs": [
    {
     "name": "stdout",
     "output_type": "stream",
     "text": [
      "Epoch 10 : cost = 1406654700.0 W = 30283.795 b = -107.26199\n",
      "Epoch 20 : cost = 1386047900.0 W = 30988.092 b = -4593.6255\n",
      "Epoch 30 : cost = 1367318400.0 W = 31659.545 b = -8870.884\n",
      "Epoch 40 : cost = 1350295000.0 W = 32299.686 b = -12948.775\n",
      "Epoch 50 : cost = 1334822500.0 W = 32910.027 b = -16836.527\n"
     ]
    }
   ],
   "source": [
    "tf.reset_default_graph()\n",
    "\n",
    "with tf.Session(graph=g) as sess: \n",
    "    # Initializing the Variables \n",
    "\n",
    "    writer = tf.summary.FileWriter('./graphs', sess.graph)\n",
    "    sess.run(init) \n",
    "    # Iterating through all the epochs \n",
    "    for epoch in range(51): \n",
    "\n",
    "        # Feeding each data point into the optimizer using Feed Dictionary \n",
    "        for (_x, _y) in zip(x, y): \n",
    "            sess.run(optimizer, feed_dict = {X : _x, Y : _y,learning_rate:0.1}) \n",
    "\n",
    "        # Displaying the result after every 50 epochs \n",
    "        if (epoch + 1) % 10 == 0: \n",
    "            # Calculating the cost a every epoch \n",
    "            c,co,we,inte= sess.run([cost_summary,cost,W,b],feed_dict = {X : x, Y : y,learning_rate:0.1}) \n",
    "            writer.add_summary(c, epoch+1)\n",
    "            print(\"Epoch\", (epoch + 1), \": cost =\", co, \"W =\", we, \"b =\", inte) "
   ]
  },
  {
   "cell_type": "markdown",
   "metadata": {},
   "source": [
    "### Cost visualization to learning_rate equals to 0.1\n",
    "<img src=\"images/cost_learning01.PNG\">\n",
    "\n",
    "The cost is less than the previous, but the reduction of the cost is still short."
   ]
  },
  {
   "cell_type": "markdown",
   "metadata": {},
   "source": [
    "### Training with  learning_rate equals to 1"
   ]
  },
  {
   "cell_type": "code",
   "execution_count": 60,
   "metadata": {},
   "outputs": [
    {
     "name": "stdout",
     "output_type": "stream",
     "text": [
      "Epoch 10 : cost = 1275289600.0 W = 35584.26 b = -34083.527\n",
      "Epoch 20 : cost = 1216227800.0 W = 39404.703 b = -58007.41\n",
      "Epoch 30 : cost = 1193814900.0 W = 41773.27 b = -72839.55\n",
      "Epoch 40 : cost = 1185379000.0 W = 43241.676 b = -82034.87\n",
      "Epoch 50 : cost = 1182246900.0 W = 44152.152 b = -87736.33\n"
     ]
    }
   ],
   "source": [
    "tf.reset_default_graph()\n",
    "\n",
    "with tf.Session(graph=g) as sess: \n",
    "    # Initializing the Variables \n",
    "\n",
    "    writer = tf.summary.FileWriter('./graphs', sess.graph)\n",
    "    sess.run(init) \n",
    "    # Iterating through all the epochs \n",
    "    for epoch in range(51): \n",
    "\n",
    "        # Feeding each data point into the optimizer using Feed Dictionary \n",
    "        for (_x, _y) in zip(x, y): \n",
    "            sess.run(optimizer, feed_dict = {X : _x, Y : _y,learning_rate:1}) \n",
    "\n",
    "        # Displaying the result after every 50 epochs \n",
    "        if (epoch + 1) % 10 == 0: \n",
    "            # Calculating the cost a every epoch \n",
    "            c,co,we,inte= sess.run([cost_summary,cost,W,b],feed_dict = {X : x, Y : y,learning_rate:1}) \n",
    "            writer.add_summary(c, epoch+1)\n",
    "            print(\"Epoch\", (epoch + 1), \": cost =\", co, \"W =\", we, \"b =\", inte) "
   ]
  },
  {
   "cell_type": "markdown",
   "metadata": {},
   "source": [
    "### Cost visualization to learning_rate equals to 1\n",
    "<img src=\"images/cost_learning1.PNG\">\n",
    "\n",
    "The reduction is more significantly than the others, but the learning rate of 0.001 is better."
   ]
  },
  {
   "cell_type": "markdown",
   "metadata": {},
   "source": [
    "### Training with  learning_rate equals to 10"
   ]
  },
  {
   "cell_type": "code",
   "execution_count": 57,
   "metadata": {},
   "outputs": [
    {
     "name": "stdout",
     "output_type": "stream",
     "text": [
      "Epoch 10 : cost = 1286631800.0 W = 47944.44 b = -97354.31\n",
      "Epoch 20 : cost = 1287742500.0 W = 48086.355 b = -98190.87\n",
      "Epoch 30 : cost = 1287751700.0 W = 48087.508 b = -98197.67\n",
      "Epoch 40 : cost = 1287751700.0 W = 48087.508 b = -98197.67\n",
      "Epoch 50 : cost = 1287751700.0 W = 48087.508 b = -98197.67\n"
     ]
    }
   ],
   "source": [
    "tf.reset_default_graph()\n",
    "\n",
    "with tf.Session(graph=g) as sess: \n",
    "    # Initializing the Variables \n",
    "\n",
    "    writer = tf.summary.FileWriter('./graphs', sess.graph)\n",
    "    sess.run(init) \n",
    "    # Iterating through all the epochs \n",
    "    for epoch in range(51): \n",
    "\n",
    "        # Feeding each data point into the optimizer using Feed Dictionary \n",
    "        for (_x, _y) in zip(x, y): \n",
    "            sess.run(optimizer, feed_dict = {X : _x, Y : _y,learning_rate:10}) \n",
    "\n",
    "        # Displaying the result after every 50 epochs \n",
    "        if (epoch + 1) % 10 == 0: \n",
    "            # Calculating the cost a every epoch \n",
    "            c,co,we,inte= sess.run([cost_summary,cost,W,b],feed_dict = {X : x, Y : y,learning_rate:10}) \n",
    "            writer.add_summary(c, epoch+1)\n",
    "            print(\"Epoch\", (epoch + 1), \": cost =\", co, \"W =\", we, \"b =\", inte) "
   ]
  },
  {
   "cell_type": "markdown",
   "metadata": {},
   "source": [
    "### Cost visualization to learning_rate equals to 10\n",
    "<img src=\"images/cost_learning10.PNG\">\n",
    "\n",
    "The cost increment instead of decrement, we reject this option."
   ]
  },
  {
   "cell_type": "markdown",
   "metadata": {},
   "source": [
    "# Conclusion\n",
    "\n",
    "Based on the previous evidence we found that the better learning rate is 0.001"
   ]
  }
 ],
 "metadata": {
  "kernelspec": {
   "display_name": "Python 3",
   "language": "python",
   "name": "python3"
  },
  "language_info": {
   "codemirror_mode": {
    "name": "ipython",
    "version": 3
   },
   "file_extension": ".py",
   "mimetype": "text/x-python",
   "name": "python",
   "nbconvert_exporter": "python",
   "pygments_lexer": "ipython3",
   "version": "3.6.8"
  }
 },
 "nbformat": 4,
 "nbformat_minor": 2
}
