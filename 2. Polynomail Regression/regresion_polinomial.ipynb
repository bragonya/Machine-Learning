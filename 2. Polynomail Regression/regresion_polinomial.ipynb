{
 "cells": [
  {
   "cell_type": "markdown",
   "metadata": {},
   "source": [
    "## Regresion Polinomial & Feature engineering"
   ]
  },
  {
   "cell_type": "code",
   "execution_count": 1,
   "metadata": {},
   "outputs": [],
   "source": [
    "import pandas as pd\n",
    "import matplotlib.pyplot as plt \n",
    "import tensorflow as tf\n",
    "import numpy as np"
   ]
  },
  {
   "cell_type": "code",
   "execution_count": 2,
   "metadata": {},
   "outputs": [],
   "source": [
    "data = pd.read_csv('winequality-red.csv')"
   ]
  },
  {
   "cell_type": "markdown",
   "metadata": {},
   "source": [
    "### Red Wine Quality Data\n",
    "\n",
    "Se aplicará regresión para crear un modelo de la calidad de vino en función de características del mismo, siendo 1 el peor vino y 10 el mejor.\n",
    "\n",
    "Variables de entrada:\n",
    "1. fixed acidity \n",
    "2. volatile acidity \n",
    "3. citric acid \n",
    "4. residual sugar \n",
    "5. chlorides \n",
    "6. free sulfur dioxide \n",
    "7. total sulfur dioxide \n",
    "8. density \n",
    "9. pH \n",
    "10. sulphates \n",
    "11. alcohol \n",
    "\n",
    "Varaible a predecir: \n",
    "12. quality (puntuacion  entre 0 y 10) \n",
    "\n"
   ]
  },
  {
   "cell_type": "code",
   "execution_count": 3,
   "metadata": {},
   "outputs": [
    {
     "data": {
      "text/html": [
       "<div>\n",
       "<style scoped>\n",
       "    .dataframe tbody tr th:only-of-type {\n",
       "        vertical-align: middle;\n",
       "    }\n",
       "\n",
       "    .dataframe tbody tr th {\n",
       "        vertical-align: top;\n",
       "    }\n",
       "\n",
       "    .dataframe thead th {\n",
       "        text-align: right;\n",
       "    }\n",
       "</style>\n",
       "<table border=\"1\" class=\"dataframe\">\n",
       "  <thead>\n",
       "    <tr style=\"text-align: right;\">\n",
       "      <th></th>\n",
       "      <th>fixed acidity</th>\n",
       "      <th>volatile acidity</th>\n",
       "      <th>citric acid</th>\n",
       "      <th>residual sugar</th>\n",
       "      <th>chlorides</th>\n",
       "      <th>free sulfur dioxide</th>\n",
       "      <th>total sulfur dioxide</th>\n",
       "      <th>density</th>\n",
       "      <th>pH</th>\n",
       "      <th>sulphates</th>\n",
       "      <th>alcohol</th>\n",
       "      <th>quality</th>\n",
       "    </tr>\n",
       "  </thead>\n",
       "  <tbody>\n",
       "    <tr>\n",
       "      <th>0</th>\n",
       "      <td>7.4</td>\n",
       "      <td>0.70</td>\n",
       "      <td>0.00</td>\n",
       "      <td>1.9</td>\n",
       "      <td>0.076</td>\n",
       "      <td>11.0</td>\n",
       "      <td>34.0</td>\n",
       "      <td>0.9978</td>\n",
       "      <td>3.51</td>\n",
       "      <td>0.56</td>\n",
       "      <td>9.4</td>\n",
       "      <td>5</td>\n",
       "    </tr>\n",
       "    <tr>\n",
       "      <th>1</th>\n",
       "      <td>7.8</td>\n",
       "      <td>0.88</td>\n",
       "      <td>0.00</td>\n",
       "      <td>2.6</td>\n",
       "      <td>0.098</td>\n",
       "      <td>25.0</td>\n",
       "      <td>67.0</td>\n",
       "      <td>0.9968</td>\n",
       "      <td>3.20</td>\n",
       "      <td>0.68</td>\n",
       "      <td>9.8</td>\n",
       "      <td>5</td>\n",
       "    </tr>\n",
       "    <tr>\n",
       "      <th>2</th>\n",
       "      <td>7.8</td>\n",
       "      <td>0.76</td>\n",
       "      <td>0.04</td>\n",
       "      <td>2.3</td>\n",
       "      <td>0.092</td>\n",
       "      <td>15.0</td>\n",
       "      <td>54.0</td>\n",
       "      <td>0.9970</td>\n",
       "      <td>3.26</td>\n",
       "      <td>0.65</td>\n",
       "      <td>9.8</td>\n",
       "      <td>5</td>\n",
       "    </tr>\n",
       "    <tr>\n",
       "      <th>3</th>\n",
       "      <td>11.2</td>\n",
       "      <td>0.28</td>\n",
       "      <td>0.56</td>\n",
       "      <td>1.9</td>\n",
       "      <td>0.075</td>\n",
       "      <td>17.0</td>\n",
       "      <td>60.0</td>\n",
       "      <td>0.9980</td>\n",
       "      <td>3.16</td>\n",
       "      <td>0.58</td>\n",
       "      <td>9.8</td>\n",
       "      <td>6</td>\n",
       "    </tr>\n",
       "    <tr>\n",
       "      <th>4</th>\n",
       "      <td>7.4</td>\n",
       "      <td>0.70</td>\n",
       "      <td>0.00</td>\n",
       "      <td>1.9</td>\n",
       "      <td>0.076</td>\n",
       "      <td>11.0</td>\n",
       "      <td>34.0</td>\n",
       "      <td>0.9978</td>\n",
       "      <td>3.51</td>\n",
       "      <td>0.56</td>\n",
       "      <td>9.4</td>\n",
       "      <td>5</td>\n",
       "    </tr>\n",
       "  </tbody>\n",
       "</table>\n",
       "</div>"
      ],
      "text/plain": [
       "   fixed acidity  volatile acidity  citric acid  residual sugar  chlorides  \\\n",
       "0            7.4              0.70         0.00             1.9      0.076   \n",
       "1            7.8              0.88         0.00             2.6      0.098   \n",
       "2            7.8              0.76         0.04             2.3      0.092   \n",
       "3           11.2              0.28         0.56             1.9      0.075   \n",
       "4            7.4              0.70         0.00             1.9      0.076   \n",
       "\n",
       "   free sulfur dioxide  total sulfur dioxide  density    pH  sulphates  \\\n",
       "0                 11.0                  34.0   0.9978  3.51       0.56   \n",
       "1                 25.0                  67.0   0.9968  3.20       0.68   \n",
       "2                 15.0                  54.0   0.9970  3.26       0.65   \n",
       "3                 17.0                  60.0   0.9980  3.16       0.58   \n",
       "4                 11.0                  34.0   0.9978  3.51       0.56   \n",
       "\n",
       "   alcohol  quality  \n",
       "0      9.4        5  \n",
       "1      9.8        5  \n",
       "2      9.8        5  \n",
       "3      9.8        6  \n",
       "4      9.4        5  "
      ]
     },
     "execution_count": 3,
     "metadata": {},
     "output_type": "execute_result"
    }
   ],
   "source": [
    "data.head()"
   ]
  },
  {
   "cell_type": "markdown",
   "metadata": {},
   "source": [
    "### Instrucciones\n",
    "\n",
    "1. Seleccionar y transformar(generando las combinaciones polinomiales para un polinomio de grado dos o tres a elección) las features que considere que son las mejores para predecir la calidad del vino, utilizar como minimo 2 features. Para seleccionar las features, hacer un analisis exploratorio por ejemplo(pero no limitado a ):  graficando y viendo la forma en que se comportan los datos.\n",
    "\n",
    " Por ejemplo, se tienen las features \"a\" y \"b\" y seleccionamos polinomio de grado 2, hacemos feature engineering para obtener :\n",
    " \n",
    " $[a,b,a^{2},b^{2},ab]$\n",
    " \n",
    " No olvidar el \"bias\" (parámetro multiplicado por 1) ,con lo cual el dataset puede quedar con las columnas:\n",
    " \n",
    " $[1,a,b,a^{2},b^{2},ab]$\n",
    "2. Una vez transformada la data aplicar regresion lineal con las features polinomiales usando Tensorflow.\n",
    "\n",
    "Requisitos adicionales:\n",
    "* Se debe agregar al notebook un screenshot del grafo de tensorboard, simplificando(usando  names , y name_scope como visto en clase).\n",
    "\n",
    "* Se debe generar un directorio de logs de tensorboard para cada corrida/experimento , con cada directorio identificando facilmente la configuración del experimento como visto en clase, por ejemplo para un experimento con learning rate = 0.1 , y polinomio grado 2  crear un directorio: lr=0.1_polinomio_grado=2. (Agregar al notebook un screenshot de estas gráficas)\n",
    "\n",
    "* Concluir en markdown cual es el mejor modelo para este caso basado en la comparativa entre curvas de costo/error en tensorboard."
   ]
  },
  {
   "cell_type": "code",
   "execution_count": 4,
   "metadata": {},
   "outputs": [
    {
     "data": {
      "text/plain": [
       "array([[<matplotlib.axes._subplots.AxesSubplot object at 0x00000243FCAD8080>,\n",
       "        <matplotlib.axes._subplots.AxesSubplot object at 0x00000243FEB1C320>,\n",
       "        <matplotlib.axes._subplots.AxesSubplot object at 0x00000243FEB475C0>],\n",
       "       [<matplotlib.axes._subplots.AxesSubplot object at 0x00000243FEB708D0>,\n",
       "        <matplotlib.axes._subplots.AxesSubplot object at 0x00000243FEB99BE0>,\n",
       "        <matplotlib.axes._subplots.AxesSubplot object at 0x00000243FEB99C18>],\n",
       "       [<matplotlib.axes._subplots.AxesSubplot object at 0x00000243FEBF7240>,\n",
       "        <matplotlib.axes._subplots.AxesSubplot object at 0x00000243FEC1F550>,\n",
       "        <matplotlib.axes._subplots.AxesSubplot object at 0x00000243FEC4A860>],\n",
       "       [<matplotlib.axes._subplots.AxesSubplot object at 0x00000243FEC72B70>,\n",
       "        <matplotlib.axes._subplots.AxesSubplot object at 0x00000243FEC9DE80>,\n",
       "        <matplotlib.axes._subplots.AxesSubplot object at 0x00000243FECD01D0>]],\n",
       "      dtype=object)"
      ]
     },
     "execution_count": 4,
     "metadata": {},
     "output_type": "execute_result"
    },
    {
     "data": {
      "image/png": "[encoded data removed]",
      "text/plain": [
       "<Figure size 1080x1440 with 12 Axes>"
      ]
     },
     "metadata": {
      "needs_background": "light"
     },
     "output_type": "display_data"
    }
   ],
   "source": [
    "data.hist(figsize = (15,20))"
   ]
  },
  {
   "cell_type": "code",
   "execution_count": 5,
   "metadata": {},
   "outputs": [
    {
     "data": {
      "text/html": [
       "<div>\n",
       "<style scoped>\n",
       "    .dataframe tbody tr th:only-of-type {\n",
       "        vertical-align: middle;\n",
       "    }\n",
       "\n",
       "    .dataframe tbody tr th {\n",
       "        vertical-align: top;\n",
       "    }\n",
       "\n",
       "    .dataframe thead th {\n",
       "        text-align: right;\n",
       "    }\n",
       "</style>\n",
       "<table border=\"1\" class=\"dataframe\">\n",
       "  <thead>\n",
       "    <tr style=\"text-align: right;\">\n",
       "      <th></th>\n",
       "      <th>quality</th>\n",
       "    </tr>\n",
       "  </thead>\n",
       "  <tbody>\n",
       "    <tr>\n",
       "      <th>fixed acidity</th>\n",
       "      <td>0.124052</td>\n",
       "    </tr>\n",
       "    <tr>\n",
       "      <th>volatile acidity</th>\n",
       "      <td>-0.390558</td>\n",
       "    </tr>\n",
       "    <tr>\n",
       "      <th>citric acid</th>\n",
       "      <td>0.226373</td>\n",
       "    </tr>\n",
       "    <tr>\n",
       "      <th>residual sugar</th>\n",
       "      <td>0.013732</td>\n",
       "    </tr>\n",
       "    <tr>\n",
       "      <th>chlorides</th>\n",
       "      <td>-0.128907</td>\n",
       "    </tr>\n",
       "    <tr>\n",
       "      <th>free sulfur dioxide</th>\n",
       "      <td>-0.050656</td>\n",
       "    </tr>\n",
       "    <tr>\n",
       "      <th>total sulfur dioxide</th>\n",
       "      <td>-0.185100</td>\n",
       "    </tr>\n",
       "    <tr>\n",
       "      <th>density</th>\n",
       "      <td>-0.174919</td>\n",
       "    </tr>\n",
       "    <tr>\n",
       "      <th>pH</th>\n",
       "      <td>-0.057731</td>\n",
       "    </tr>\n",
       "    <tr>\n",
       "      <th>sulphates</th>\n",
       "      <td>0.251397</td>\n",
       "    </tr>\n",
       "    <tr>\n",
       "      <th>alcohol</th>\n",
       "      <td>0.476166</td>\n",
       "    </tr>\n",
       "    <tr>\n",
       "      <th>quality</th>\n",
       "      <td>1.000000</td>\n",
       "    </tr>\n",
       "  </tbody>\n",
       "</table>\n",
       "</div>"
      ],
      "text/plain": [
       "                       quality\n",
       "fixed acidity         0.124052\n",
       "volatile acidity     -0.390558\n",
       "citric acid           0.226373\n",
       "residual sugar        0.013732\n",
       "chlorides            -0.128907\n",
       "free sulfur dioxide  -0.050656\n",
       "total sulfur dioxide -0.185100\n",
       "density              -0.174919\n",
       "pH                   -0.057731\n",
       "sulphates             0.251397\n",
       "alcohol               0.476166\n",
       "quality               1.000000"
      ]
     },
     "execution_count": 5,
     "metadata": {},
     "output_type": "execute_result"
    }
   ],
   "source": [
    "data.corr().iloc[:,-1:]"
   ]
  },
  {
   "cell_type": "markdown",
   "metadata": {},
   "source": [
    "Se seleccionan las variables a = alcohol y b = velocity acidity"
   ]
  },
  {
   "cell_type": "code",
   "execution_count": 6,
   "metadata": {},
   "outputs": [
    {
     "data": {
      "text/plain": [
       "<matplotlib.axes._subplots.AxesSubplot at 0x243fed52748>"
      ]
     },
     "execution_count": 6,
     "metadata": {},
     "output_type": "execute_result"
    },
    {
     "data": {
      "image/png": "[encoded data removed]",
      "text/plain": [
       "<Figure size 432x288 with 1 Axes>"
      ]
     },
     "metadata": {
      "needs_background": "light"
     },
     "output_type": "display_data"
    }
   ],
   "source": [
    "data.plot.scatter(x=\"alcohol\",y=\"quality\")"
   ]
  },
  {
   "cell_type": "code",
   "execution_count": 7,
   "metadata": {},
   "outputs": [
    {
     "data": {
      "text/plain": [
       "<matplotlib.axes._subplots.AxesSubplot at 0x243fee3f668>"
      ]
     },
     "execution_count": 7,
     "metadata": {},
     "output_type": "execute_result"
    },
    {
     "data": {
      "image/png": "[encoded data removed]",
      "text/plain": [
       "<Figure size 432x288 with 1 Axes>"
      ]
     },
     "metadata": {
      "needs_background": "light"
     },
     "output_type": "display_data"
    }
   ],
   "source": [
    "data.plot.scatter(x=\"volatile acidity\",y=\"quality\")"
   ]
  },
  {
   "cell_type": "markdown",
   "metadata": {},
   "source": [
    "### Preparación de la data"
   ]
  },
  {
   "cell_type": "code",
   "execution_count": 147,
   "metadata": {},
   "outputs": [],
   "source": [
    "n = len(data)\n",
    "a = np.array(data[\"alcohol\"]).reshape(n,1)\n",
    "b = np.array(data[\"volatile acidity\"]).reshape(n,1)\n",
    "ab = np.multiply(a,b)\n",
    "a2 = np.multiply(a,a)\n",
    "b2 = np.multiply(b,b)\n",
    "ones = np.ones(shape=[n,1])\n",
    "#x = np.ndarray([[ones],[a],[b],[a2],[b2],[ab]])\n",
    "x = np.concatenate([ones,a,b,a2,b2,ab],axis=1)\n",
    "y = np.array(data[\"quality\"]).reshape(n,1)"
   ]
  },
  {
   "cell_type": "markdown",
   "metadata": {},
   "source": [
    "### Definición del grafo"
   ]
  },
  {
   "cell_type": "code",
   "execution_count": 148,
   "metadata": {},
   "outputs": [],
   "source": [
    "tf.reset_default_graph()\n",
    "g = tf.Graph()\n",
    "with g.as_default():\n",
    "    X = tf.placeholder(\"float\",[None,6],name=\"X\") \n",
    "    Y = tf.placeholder(\"float\",[None,1],name=\"Y\") \n",
    "    learning_rate = tf.placeholder(\"float\")\n",
    "    W = tf.Variable(tf.zeros((6,1)), name = \"W\", dtype=\"float\")\n",
    "    b = tf.Variable(tf.zeros(1), name = \"b\", dtype=\"float\")\n",
    "    with tf.name_scope(\"model\"):\n",
    "        y_pred = tf.add(tf.matmul(X, W), b)\n",
    "    with tf.name_scope(\"cost\"):\n",
    "        cost = tf.reduce_sum(tf.pow(y_pred-Y, 2)) / (2 * n)\n",
    "        cost_summary = tf.summary.scalar(\"cost\",cost)\n",
    "    optimizer = tf.train.GradientDescentOptimizer(learning_rate).minimize(cost)\n",
    "    init = tf.global_variables_initializer()"
   ]
  },
  {
   "cell_type": "markdown",
   "metadata": {},
   "source": [
    "### Tensorboard graph visual representation\n",
    "\n",
    "<img src=\"./grafo.PNG\">"
   ]
  },
  {
   "cell_type": "code",
   "execution_count": 149,
   "metadata": {},
   "outputs": [],
   "source": [
    "def training(lr):\n",
    "    tf.reset_default_graph()\n",
    "\n",
    "    with tf.Session(graph=g) as sess: \n",
    "\n",
    "        writer = tf.summary.FileWriter('./graphs/lr='+str(lr)+\"polinomio=2\", sess.graph)\n",
    "        sess.run(init) \n",
    "        for epoch in range(51): \n",
    "\n",
    "            sess.run(optimizer, feed_dict = {X : x, Y : y,learning_rate:lr}) \n",
    "\n",
    "            if (epoch + 1) % 10 == 0: \n",
    "                c,co,we,inte= sess.run([cost_summary,cost,W,b],feed_dict = {X : x, Y : y,learning_rate:lr}) \n",
    "                writer.add_summary(c, epoch+1)\n",
    "                print(\"Epoch\", (epoch + 1), \": cost =\", co, \"W =\", we, \"b =\", inte) \n",
    "                \n",
    "        writer.close()"
   ]
  },
  {
   "cell_type": "code",
   "execution_count": 150,
   "metadata": {},
   "outputs": [
    {
     "name": "stdout",
     "output_type": "stream",
     "text": [
      "Epoch 10 : cost = inf W = [[-4.4394098e+17]\n",
      " [-4.7264003e+18]\n",
      " [-2.3100805e+17]\n",
      " [-5.0899507e+19]\n",
      " [-1.3470597e+17]\n",
      " [-2.4396959e+18]] b = [-4.4394095e+17]\n",
      "Epoch 20 : cost = nan W = [[nan]\n",
      " [nan]\n",
      " [nan]\n",
      " [nan]\n",
      " [nan]\n",
      " [nan]] b = [nan]\n",
      "Epoch 30 : cost = nan W = [[nan]\n",
      " [nan]\n",
      " [nan]\n",
      " [nan]\n",
      " [nan]\n",
      " [nan]] b = [nan]\n",
      "Epoch 40 : cost = nan W = [[nan]\n",
      " [nan]\n",
      " [nan]\n",
      " [nan]\n",
      " [nan]\n",
      " [nan]] b = [nan]\n",
      "Epoch 50 : cost = nan W = [[nan]\n",
      " [nan]\n",
      " [nan]\n",
      " [nan]\n",
      " [nan]\n",
      " [nan]] b = [nan]\n"
     ]
    }
   ],
   "source": [
    "training(0.01)"
   ]
  },
  {
   "cell_type": "code",
   "execution_count": 151,
   "metadata": {},
   "outputs": [
    {
     "name": "stdout",
     "output_type": "stream",
     "text": [
      "Epoch 10 : cost = 3.8006125e+22 W = [[-2.1196000e+07]\n",
      " [-2.2566245e+08]\n",
      " [-1.1029500e+07]\n",
      " [-2.4302024e+09]\n",
      " [-6.4315500e+06]\n",
      " [-1.1648350e+08]] b = [-21196002.]\n",
      "Epoch 20 : cost = inf W = [[-1.0446655e+18]\n",
      " [-1.1121992e+19]\n",
      " [-5.4359972e+17]\n",
      " [-1.1977486e+20]\n",
      " [-3.1698522e+17]\n",
      " [-5.7410021e+18]] b = [-1.0446656e+18]\n",
      "Epoch 30 : cost = inf W = [[-5.1487386e+28]\n",
      " [-5.4815851e+29]\n",
      " [-2.6791850e+28]\n",
      " [-5.9032216e+30]\n",
      " [-1.5622933e+28]\n",
      " [-2.8295105e+29]] b = [-5.1487376e+28]\n",
      "Epoch 40 : cost = nan W = [[nan]\n",
      " [nan]\n",
      " [nan]\n",
      " [nan]\n",
      " [nan]\n",
      " [nan]] b = [nan]\n",
      "Epoch 50 : cost = nan W = [[nan]\n",
      " [nan]\n",
      " [nan]\n",
      " [nan]\n",
      " [nan]\n",
      " [nan]] b = [nan]\n"
     ]
    }
   ],
   "source": [
    "training(0.001)"
   ]
  },
  {
   "cell_type": "code",
   "execution_count": 152,
   "metadata": {},
   "outputs": [
    {
     "name": "stdout",
     "output_type": "stream",
     "text": [
      "Epoch 10 : cost = 0.56122106 W = [[0.00059157]\n",
      " [0.00544883]\n",
      " [0.00029338]\n",
      " [0.04920911]\n",
      " [0.00015552]\n",
      " [0.00267512]] b = [0.00059157]\n",
      "Epoch 20 : cost = 0.56030375 W = [[0.00075281]\n",
      " [0.00631755]\n",
      " [0.00036268]\n",
      " [0.04911054]\n",
      " [0.0001803 ]\n",
      " [0.00298441]] b = [0.00075281]\n",
      "Epoch 30 : cost = 0.55939084 W = [[0.00091377]\n",
      " [0.00718477]\n",
      " [0.00043168]\n",
      " [0.04901211]\n",
      " [0.00020482]\n",
      " [0.00329128]] b = [0.00091377]\n",
      "Epoch 40 : cost = 0.55848217 W = [[0.00107445]\n",
      " [0.0080505 ]\n",
      " [0.00050038]\n",
      " [0.04891395]\n",
      " [0.00022909]\n",
      " [0.00359576]] b = [0.00107445]\n",
      "Epoch 50 : cost = 0.5575777 W = [[0.00123485]\n",
      " [0.00891476]\n",
      " [0.0005688 ]\n",
      " [0.04881605]\n",
      " [0.0002531 ]\n",
      " [0.00389786]] b = [0.00123485]\n"
     ]
    }
   ],
   "source": [
    "training(0.0001)"
   ]
  },
  {
   "cell_type": "code",
   "execution_count": 153,
   "metadata": {},
   "outputs": [
    {
     "name": "stdout",
     "output_type": "stream",
     "text": [
      "Epoch 10 : cost = 0.56122106 W = [[0.00059157]\n",
      " [0.00544883]\n",
      " [0.00029338]\n",
      " [0.04920911]\n",
      " [0.00015552]\n",
      " [0.00267512]] b = [0.00059157]\n",
      "Epoch 20 : cost = 0.56030375 W = [[0.00075281]\n",
      " [0.00631755]\n",
      " [0.00036268]\n",
      " [0.04911054]\n",
      " [0.0001803 ]\n",
      " [0.00298441]] b = [0.00075281]\n",
      "Epoch 30 : cost = 0.55939084 W = [[0.00091377]\n",
      " [0.00718477]\n",
      " [0.00043168]\n",
      " [0.04901211]\n",
      " [0.00020482]\n",
      " [0.00329128]] b = [0.00091377]\n",
      "Epoch 40 : cost = 0.55848217 W = [[0.00107445]\n",
      " [0.0080505 ]\n",
      " [0.00050038]\n",
      " [0.04891395]\n",
      " [0.00022909]\n",
      " [0.00359576]] b = [0.00107445]\n",
      "Epoch 50 : cost = 0.5575777 W = [[0.00123485]\n",
      " [0.00891476]\n",
      " [0.0005688 ]\n",
      " [0.04881605]\n",
      " [0.0002531 ]\n",
      " [0.00389786]] b = [0.00123485]\n"
     ]
    }
   ],
   "source": [
    "training(0.0001)"
   ]
  },
  {
   "cell_type": "code",
   "execution_count": 154,
   "metadata": {},
   "outputs": [
    {
     "name": "stdout",
     "output_type": "stream",
     "text": [
      "Epoch 10 : cost = 1.5895346 W = [[3.3601566e-04]\n",
      " [3.4923840e-03]\n",
      " [1.7340966e-04]\n",
      " [3.6662448e-02]\n",
      " [9.9567085e-05]\n",
      " [1.7890343e-03]] b = [0.00033602]\n",
      "Epoch 20 : cost = 0.6294332 W = [[0.00043414]\n",
      " [0.0044521 ]\n",
      " [0.00022303]\n",
      " [0.04605028]\n",
      " [0.00012695]\n",
      " [0.00227073]] b = [0.00043414]\n",
      "Epoch 30 : cost = 0.56629705 W = [[0.0004713 ]\n",
      " [0.00476278]\n",
      " [0.00024093]\n",
      " [0.04844866]\n",
      " [0.00013583]\n",
      " [0.00241738]] b = [0.0004713]\n",
      "Epoch 40 : cost = 0.5620647 W = [[0.00049284]\n",
      " [0.00490712]\n",
      " [0.00025069]\n",
      " [0.04905592]\n",
      " [0.00013997]\n",
      " [0.00247816]] b = [0.00049284]\n",
      "Epoch 50 : cost = 0.56170064 W = [[0.00051037]\n",
      " [0.00500883]\n",
      " [0.00025837]\n",
      " [0.04920417]\n",
      " [0.00014289]\n",
      " [0.00251691]] b = [0.00051037]\n"
     ]
    }
   ],
   "source": [
    "training(0.00001)"
   ]
  },
  {
   "cell_type": "code",
   "execution_count": 155,
   "metadata": {},
   "outputs": [
    {
     "name": "stdout",
     "output_type": "stream",
     "text": [
      "Epoch 10 : cost = 12.671777 W = [[5.3328487e-05]\n",
      " [5.5925985e-04]\n",
      " [2.7606084e-05]\n",
      " [5.9279986e-03]\n",
      " [1.5942564e-05]\n",
      " [2.8731395e-04]] b = [5.3328487e-05]\n",
      "Epoch 20 : cost = 9.934642 W = [[1.00438905e-04]\n",
      " [1.05231931e-03]\n",
      " [5.19765235e-05]\n",
      " [1.11430744e-02]\n",
      " [2.99983440e-05]\n",
      " [5.40456094e-04]] b = [0.00010044]\n",
      "Epoch 30 : cost = 7.816176 W = [[1.4207893e-04]\n",
      " [1.4871386e-03]\n",
      " [7.3500400e-05]\n",
      " [1.5730953e-02]\n",
      " [4.2394218e-05]\n",
      " [7.6353532e-04]] b = [0.00014208]\n",
      "Epoch 40 : cost = 6.1765413 W = [[1.7890631e-04]\n",
      " [1.8707205e-03]\n",
      " [9.2519971e-05]\n",
      " [1.9767048e-02]\n",
      " [5.3329761e-05]\n",
      " [9.6016657e-04]] b = [0.00017891]\n",
      "Epoch 50 : cost = 4.9075093 W = [[2.1149978e-04]\n",
      " [2.2092264e-03]\n",
      " [1.0933635e-04]\n",
      " [2.3317710e-02]\n",
      " [6.2980580e-05]\n",
      " [1.1335299e-03]] b = [0.0002115]\n"
     ]
    }
   ],
   "source": [
    "training(0.000001)"
   ]
  },
  {
   "cell_type": "markdown",
   "metadata": {},
   "source": [
    "### Costos\n",
    "\n",
    "<img src=\"./costos.PNG\">"
   ]
  },
  {
   "cell_type": "markdown",
   "metadata": {},
   "source": [
    "Con base a las gráficas es mejor learning rate es el de 1e-05"
   ]
  }
 ],
 "metadata": {
  "kernelspec": {
   "display_name": "Python 3",
   "language": "python",
   "name": "python3"
  },
  "language_info": {
   "codemirror_mode": {
    "name": "ipython",
    "version": 3
   },
   "file_extension": ".py",
   "mimetype": "text/x-python",
   "name": "python",
   "nbconvert_exporter": "python",
   "pygments_lexer": "ipython3",
   "version": "3.6.8"
  }
 },
 "nbformat": 4,
 "nbformat_minor": 2
}
